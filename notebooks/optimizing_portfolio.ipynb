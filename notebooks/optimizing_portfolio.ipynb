{
 "cells": [
  {
   "cell_type": "markdown",
   "id": "5985b3cc",
   "metadata": {},
   "source": [
    "# Classical Portfolio Optimization (Modern Portfolio Theory)\n",
    "\n",
    "We implement Markowitz MPT to find:\n",
    "- **Minimum Volatility Portfolio** (safest allocation)\n",
    "- **Maximum Sharpe Ratio Portfolio** (best risk-adjusted return / Sharpe)\n",
    "\n",
    "This is our baseline before testing ML-based allocations.\n",
    "\n",
    "\n",
    "We then extend with:\n",
    "- **Practical constraint:** cap any asset ≤ 30% to avoid unrealistic concentration.\n",
    "- **Stability metrics:** Effective Number of Assets (N_eff) to measure diversification.\n",
    "\n",
    "This shows both the strengths and weaknesses of classical MPT, setting up why ML might improve things later."
   ]
  },
  {
   "cell_type": "markdown",
   "id": "ab8ad227",
   "metadata": {},
   "source": [
    "## 1. Optimizer Setup\n",
    "\n",
    "We define the expected returns (μ) and covariance (Σ) from the values we got during EDA.\n",
    "\n",
    "The risk-free rate is set at 2% by defauly for the Sharpe ratio calculations."
   ]
  },
  {
   "cell_type": "code",
   "execution_count": 4,
   "id": "be5f4e4c",
   "metadata": {},
   "outputs": [
    {
     "data": {
      "text/html": [
       "<div>\n",
       "<style scoped>\n",
       "    .dataframe tbody tr th:only-of-type {\n",
       "        vertical-align: middle;\n",
       "    }\n",
       "\n",
       "    .dataframe tbody tr th {\n",
       "        vertical-align: top;\n",
       "    }\n",
       "\n",
       "    .dataframe thead th {\n",
       "        text-align: right;\n",
       "    }\n",
       "</style>\n",
       "<table border=\"1\" class=\"dataframe\">\n",
       "  <thead>\n",
       "    <tr style=\"text-align: right;\">\n",
       "      <th></th>\n",
       "      <th>AAPL</th>\n",
       "      <th>MSFT</th>\n",
       "      <th>AMZN</th>\n",
       "      <th>META</th>\n",
       "      <th>NVDA</th>\n",
       "      <th>SPY</th>\n",
       "      <th>TLT</th>\n",
       "      <th>GLD</th>\n",
       "    </tr>\n",
       "  </thead>\n",
       "  <tbody>\n",
       "    <tr>\n",
       "      <th>mu</th>\n",
       "      <td>0.324056</td>\n",
       "      <td>0.327716</td>\n",
       "      <td>0.263843</td>\n",
       "      <td>0.313301</td>\n",
       "      <td>0.817466</td>\n",
       "      <td>0.161039</td>\n",
       "      <td>-0.008714</td>\n",
       "      <td>0.14672</td>\n",
       "    </tr>\n",
       "  </tbody>\n",
       "</table>\n",
       "</div>"
      ],
      "text/plain": [
       "        AAPL      MSFT      AMZN      META      NVDA       SPY       TLT  \\\n",
       "mu  0.324056  0.327716  0.263843  0.313301  0.817466  0.161039 -0.008714   \n",
       "\n",
       "        GLD  \n",
       "mu  0.14672  "
      ]
     },
     "metadata": {},
     "output_type": "display_data"
    },
    {
     "name": "stdout",
     "output_type": "stream",
     "text": [
      "Cov shape:  (8, 8)\n"
     ]
    }
   ],
   "source": [
    "import pandas as pd\n",
    "import numpy as np\n",
    "import matplotlib.pyplot as plt\n",
    "from scipy.optimize import minimize\n",
    "\n",
    "RISK_FREE = 0.02\n",
    "\n",
    "mu_annual = pd.read_csv(\"../data/annualized_mean_returns.csv\", index_col=0).squeeze(\"columns\")\n",
    "cov_annual = pd.read_csv(\"../data/annualized_cov_matrix.csv\", index_col=0)\n",
    "\n",
    "if isinstance(mu_annual, pd.DataFrame):\n",
    "    mu_annual = mu_annual.iloc[:, 0]\n",
    "\n",
    "\n",
    "tickers = mu_annual.index.tolist()\n",
    "mu = mu_annual.values\n",
    "cov = cov_annual.values\n",
    "\n",
    "display(mu_annual.to_frame(\"mu\").T)\n",
    "print(\"Cov shape: \", cov_annual.shape)\n",
    "\n"
   ]
  },
  {
   "cell_type": "markdown",
   "id": "e3f084da",
   "metadata": {},
   "source": [
    "## 2. Portfolio Metrics\n",
    "\n",
    "I defined functions to calculate:\n",
    "- Expected return (μᵀw): weighted average of asset returns \n",
    "- Volatility (√(wᵀΣw)): overall portfolio risk based on the covariance matrix\n",
    "- Sharpe ratio ((Rp – Rf)/σp): excess return per unit of volatility"
   ]
  },
  {
   "cell_type": "code",
   "execution_count": 5,
   "id": "fe651a9d",
   "metadata": {},
   "outputs": [],
   "source": [
    "def portfolio_return(weights, mu_vec):\n",
    "    return float(np.dot(weights, mu_vec))\n",
    "\n",
    "def portfolio_vol(weights, cov_mat):\n",
    "    return float(np.sqrt(np.dot(weights.T, np.dot(cov_mat, weights))))\n",
    "\n",
    "def sharpe_ratio(weights, mu_vec, cov_mat, risk_free=0.02):\n",
    "    ret = portfolio_return(weights, mu_vec)\n",
    "    vol = portfolio_vol(weights, cov_mat)\n",
    "    return (ret - risk_free) / vol if vol > 0 else -np.inf"
   ]
  },
  {
   "cell_type": "markdown",
   "id": "39b2fb22",
   "metadata": {},
   "source": [
    "## 3. Optimization Routine\n",
    "\n",
    "Now, we need to set up the optimization problem with two constraints (explained in report/decisions.md):\n",
    "\n",
    "- Weights >= 0 (long-only, no shorting)\n",
    "- Sum (weights) = 1 (fully invested portfolio)\n",
    "\n",
    "Then, we solve for:\n",
    "- Minimum Volatility Portfolio\n",
    "- Maximum Sharpe Ratio Portfolio\n",
    "\n"
   ]
  },
  {
   "cell_type": "code",
   "execution_count": 6,
   "id": "8d1e06a3",
   "metadata": {},
   "outputs": [],
   "source": [
    "def optimize_portfolios(mu_vec, cov_mat, risk_free = 0.02):\n",
    "    n = len(mu_vec)\n",
    "    w0 = np.ones(n) / n\n",
    "    bounds = [(0.0, 1.0)] * n\n",
    "    cons = {'type' : 'eq', 'fun' : lambda w: np.sum(w) - 1.0}\n",
    "\n",
    "    res_min_vol = minimize(lambda w: portfolio_vol(w, cov_mat), w0, bounds=bounds, constraints=cons)\n",
    "    w_min_vol = res_min_vol.x\n",
    "\n",
    "    res_max_sharpe = minimize(lambda w: -sharpe_ratio(w, mu_vec, cov_mat, risk_free), w0, bounds=bounds, constraints=cons)\n",
    "    w_max_sharpe = res_max_sharpe.x\n",
    "\n",
    "    return w_min_vol, w_max_sharpe"
   ]
  },
  {
   "cell_type": "markdown",
   "id": "1fcb3c2d",
   "metadata": {},
   "source": [
    "## 4. Optimal Allocations\n",
    "\n",
    "Now we have to compute and display the asset weights for:\n",
    "- Minimum Volatility Portfolio\n",
    "- Maximum Sharpe Ratio Portfolio\n",
    "\n",
    "We also verify the constraints we set:\n",
    "- Do weights sum to 1?\n",
    "- Are any weights negative?"
   ]
  },
  {
   "cell_type": "code",
   "execution_count": 7,
   "id": "6d2c3030",
   "metadata": {},
   "outputs": [
    {
     "data": {
      "text/plain": [
       "TLT     0.379\n",
       "GLD     0.332\n",
       "SPY     0.289\n",
       "MSFT    0.000\n",
       "AAPL    0.000\n",
       "AMZN    0.000\n",
       "META    0.000\n",
       "NVDA    0.000\n",
       "Name: MinVol, dtype: float64"
      ]
     },
     "metadata": {},
     "output_type": "display_data"
    },
    {
     "data": {
      "text/plain": [
       "GLD     0.629\n",
       "NVDA    0.335\n",
       "AAPL    0.036\n",
       "AMZN    0.000\n",
       "META    0.000\n",
       "MSFT    0.000\n",
       "SPY     0.000\n",
       "TLT     0.000\n",
       "Name: MaxSharpe, dtype: float64"
      ]
     },
     "metadata": {},
     "output_type": "display_data"
    },
    {
     "name": "stdout",
     "output_type": "stream",
     "text": [
      "Sum to 1?  MinVol: 1.0  | MaxSharpe: 1.0\n",
      "Any negative? MinVol: False  | MaxSharpe: False\n"
     ]
    }
   ],
   "source": [
    "w_min_vol, w_max_sharpe = optimize_portfolios(mu, cov, 0.02)\n",
    "\n",
    "alloc_min_vol = pd.Series(w_min_vol, index=tickers, name='MinVol').sort_values(ascending=False)\n",
    "alloc_max_sharpe = pd.Series(w_max_sharpe, index=tickers, name=\"MaxSharpe\").sort_values(ascending=False)\n",
    "\n",
    "display(alloc_min_vol.round(3))\n",
    "display(alloc_max_sharpe.round(3))\n",
    "\n",
    "print(\"Sum to 1?  MinVol:\", round(alloc_min_vol.sum(), 6), \" | MaxSharpe:\", round(alloc_max_sharpe.sum(), 6))\n",
    "print(\"Any negative? MinVol:\", (alloc_min_vol<0).any(), \" | MaxSharpe:\", (alloc_max_sharpe<0).any())"
   ]
  },
  {
   "cell_type": "markdown",
   "id": "df205b6b",
   "metadata": {},
   "source": [
    "## 5. Portfolio Performance\n",
    "\n",
    "Here we compare annualized return, volatility, and Sharpe ratio."
   ]
  },
  {
   "cell_type": "code",
   "execution_count": 9,
   "id": "1b04307f",
   "metadata": {},
   "outputs": [
    {
     "data": {
      "text/html": [
       "<style type=\"text/css\">\n",
       "</style>\n",
       "<table id=\"T_93825\">\n",
       "  <thead>\n",
       "    <tr>\n",
       "      <th class=\"blank level0\" >&nbsp;</th>\n",
       "      <th id=\"T_93825_level0_col0\" class=\"col_heading level0 col0\" >Return</th>\n",
       "      <th id=\"T_93825_level0_col1\" class=\"col_heading level0 col1\" >Volatility</th>\n",
       "      <th id=\"T_93825_level0_col2\" class=\"col_heading level0 col2\" >Sharpe</th>\n",
       "    </tr>\n",
       "  </thead>\n",
       "  <tbody>\n",
       "    <tr>\n",
       "      <th id=\"T_93825_level0_row0\" class=\"row_heading level0 row0\" >Min Vol</th>\n",
       "      <td id=\"T_93825_row0_col0\" class=\"data row0 col0\" >9.19%</td>\n",
       "      <td id=\"T_93825_row0_col1\" class=\"data row0 col1\" >10.18%</td>\n",
       "      <td id=\"T_93825_row0_col2\" class=\"data row0 col2\" >0.71</td>\n",
       "    </tr>\n",
       "    <tr>\n",
       "      <th id=\"T_93825_level0_row1\" class=\"row_heading level0 row1\" >Max Sharpe</th>\n",
       "      <td id=\"T_93825_row1_col0\" class=\"data row1 col0\" >37.80%</td>\n",
       "      <td id=\"T_93825_row1_col1\" class=\"data row1 col1\" >20.81%</td>\n",
       "      <td id=\"T_93825_row1_col2\" class=\"data row1 col2\" >1.72</td>\n",
       "    </tr>\n",
       "  </tbody>\n",
       "</table>\n"
      ],
      "text/plain": [
       "<pandas.io.formats.style.Styler at 0x19642e42120>"
      ]
     },
     "execution_count": 9,
     "metadata": {},
     "output_type": "execute_result"
    }
   ],
   "source": [
    "perf = pd.DataFrame(\n",
    "    {\n",
    "        \"Return\": [\n",
    "            portfolio_return(w_min_vol, mu),\n",
    "            portfolio_return(w_max_sharpe, mu)\n",
    "        ],\n",
    "        \"Volatility\": [\n",
    "            portfolio_vol(w_min_vol, cov),\n",
    "            portfolio_vol(w_max_sharpe, cov)\n",
    "        ],\n",
    "        \"Sharpe\": [\n",
    "            sharpe_ratio(w_min_vol, mu, cov),\n",
    "            sharpe_ratio(w_max_sharpe, mu, cov)\n",
    "        ],\n",
    "    },\n",
    "    index=[\"Min Vol\", \"Max Sharpe\"]\n",
    ")\n",
    "perf.style.format({\"Return\": \"{:.2%}\", \"Volatility\": \"{:.2%}\", \"Sharpe\": \"{:.2f}\"})\n"
   ]
  },
  {
   "cell_type": "markdown",
   "id": "ecb7892f",
   "metadata": {},
   "source": [
    "## 6. Allocation Visualization"
   ]
  },
  {
   "cell_type": "code",
   "execution_count": 12,
   "id": "bd64e69f",
   "metadata": {},
   "outputs": [
    {
     "data": {
      "image/png": "[encoded data removed]",
      "text/plain": [
       "<Figure size 1200x600 with 2 Axes>"
      ]
     },
     "metadata": {},
     "output_type": "display_data"
    }
   ],
   "source": [
    "fig, axes = plt.subplots(1, 2, figsize=(12, 6))\n",
    "alloc_min_vol.plot(kind=\"pie\", ax=axes[0], autopct=\"%.1f%%\", title=\"Min Volatility\", ylabel=\"\")\n",
    "alloc_max_sharpe.plot(kind=\"pie\", ax=axes[1], autopct=\"%.1f%%\", title=\"Max Sharpe\", ylabel=\"\")\n",
    "plt.tight_layout()\n",
    "plt.show()"
   ]
  },
  {
   "cell_type": "markdown",
   "id": "63a80fe4",
   "metadata": {},
   "source": [
    "## 6.1 Practical Constraint: Cap Any Single Asset at 30%\n",
    "\n",
    "As we can see in the pie charts above, unconstrained MPT often produces *corner solutions* where only a few assets are allocated with high weights. \n",
    "\n",
    "In reality, portfolios impose position limits (for example no allocation can exceed 30%)\n",
    "\n",
    "After adding this new constraint, we can re-run Max-Sharpe with that cap to force diversification. "
   ]
  },
  {
   "cell_type": "code",
   "execution_count": 17,
   "id": "e827bd80",
   "metadata": {},
   "outputs": [
    {
     "data": {
      "text/plain": [
       "NVDA    0.300\n",
       "GLD     0.300\n",
       "TLT     0.155\n",
       "MSFT    0.139\n",
       "AAPL    0.107\n",
       "SPY     0.000\n",
       "AMZN    0.000\n",
       "META    0.000\n",
       "Name: MaxSharpe_cap30, dtype: float64"
      ]
     },
     "metadata": {},
     "output_type": "display_data"
    },
    {
     "data": {
      "image/png": "[encoded data removed]",
      "text/plain": [
       "<Figure size 640x480 with 1 Axes>"
      ]
     },
     "metadata": {},
     "output_type": "display_data"
    }
   ],
   "source": [
    "def optimize_with_cap(mu_vec, cov_mat, risk_free=RISK_FREE, cap=0.30):\n",
    "    n = len(mu_vec)\n",
    "    w0 = np.ones(n) / n\n",
    "    bounds = [(0.0, cap)] * n\n",
    "    cons = {'type': 'eq', 'fun': lambda w: np.sum(w) - 1.0}\n",
    "    res = minimize(lambda w: -sharpe_ratio(w, mu_vec, cov_mat, risk_free),\n",
    "                   w0, bounds=bounds, constraints=cons)\n",
    "    return res.x\n",
    "\n",
    "w_max_sharpe_cap30 = optimize_with_cap(mu, cov, cap=0.30)\n",
    "alloc_max_sharpe_cap30 = pd.Series(w_max_sharpe_cap30, index=tickers, name=\"MaxSharpe_cap30\").sort_values(ascending=False)\n",
    "\n",
    "display(alloc_max_sharpe_cap30.round(3))\n",
    "alloc_max_sharpe_cap30.plot(kind=\"pie\", autopct=\"%.1f%%\", title=\"Max Sharpe\", ylabel=\"\")\n",
    "plt.show()"
   ]
  },
  {
   "cell_type": "markdown",
   "id": "d01d2660",
   "metadata": {},
   "source": [
    "### Comparison: Unconstrained vs 30% Cap"
   ]
  },
  {
   "cell_type": "code",
   "execution_count": 18,
   "id": "d0750ad2",
   "metadata": {},
   "outputs": [
    {
     "data": {
      "text/html": [
       "<div>\n",
       "<style scoped>\n",
       "    .dataframe tbody tr th:only-of-type {\n",
       "        vertical-align: middle;\n",
       "    }\n",
       "\n",
       "    .dataframe tbody tr th {\n",
       "        vertical-align: top;\n",
       "    }\n",
       "\n",
       "    .dataframe thead th {\n",
       "        text-align: right;\n",
       "    }\n",
       "</style>\n",
       "<table border=\"1\" class=\"dataframe\">\n",
       "  <thead>\n",
       "    <tr style=\"text-align: right;\">\n",
       "      <th></th>\n",
       "      <th>Unconstrained</th>\n",
       "      <th>Cap30%</th>\n",
       "    </tr>\n",
       "  </thead>\n",
       "  <tbody>\n",
       "    <tr>\n",
       "      <th>GLD</th>\n",
       "      <td>0.629</td>\n",
       "      <td>0.300</td>\n",
       "    </tr>\n",
       "    <tr>\n",
       "      <th>NVDA</th>\n",
       "      <td>0.335</td>\n",
       "      <td>0.300</td>\n",
       "    </tr>\n",
       "    <tr>\n",
       "      <th>AAPL</th>\n",
       "      <td>0.036</td>\n",
       "      <td>0.107</td>\n",
       "    </tr>\n",
       "    <tr>\n",
       "      <th>AMZN</th>\n",
       "      <td>0.000</td>\n",
       "      <td>0.000</td>\n",
       "    </tr>\n",
       "    <tr>\n",
       "      <th>META</th>\n",
       "      <td>0.000</td>\n",
       "      <td>0.000</td>\n",
       "    </tr>\n",
       "    <tr>\n",
       "      <th>MSFT</th>\n",
       "      <td>0.000</td>\n",
       "      <td>0.139</td>\n",
       "    </tr>\n",
       "    <tr>\n",
       "      <th>SPY</th>\n",
       "      <td>0.000</td>\n",
       "      <td>0.000</td>\n",
       "    </tr>\n",
       "    <tr>\n",
       "      <th>TLT</th>\n",
       "      <td>0.000</td>\n",
       "      <td>0.155</td>\n",
       "    </tr>\n",
       "  </tbody>\n",
       "</table>\n",
       "</div>"
      ],
      "text/plain": [
       "      Unconstrained  Cap30%\n",
       "GLD           0.629   0.300\n",
       "NVDA          0.335   0.300\n",
       "AAPL          0.036   0.107\n",
       "AMZN          0.000   0.000\n",
       "META          0.000   0.000\n",
       "MSFT          0.000   0.139\n",
       "SPY           0.000   0.000\n",
       "TLT           0.000   0.155"
      ]
     },
     "metadata": {},
     "output_type": "display_data"
    },
    {
     "data": {
      "text/html": [
       "<style type=\"text/css\">\n",
       "</style>\n",
       "<table id=\"T_01432\">\n",
       "  <thead>\n",
       "    <tr>\n",
       "      <th class=\"blank level0\" >&nbsp;</th>\n",
       "      <th id=\"T_01432_level0_col0\" class=\"col_heading level0 col0\" >Return</th>\n",
       "      <th id=\"T_01432_level0_col1\" class=\"col_heading level0 col1\" >Volatility</th>\n",
       "      <th id=\"T_01432_level0_col2\" class=\"col_heading level0 col2\" >Sharpe</th>\n",
       "    </tr>\n",
       "  </thead>\n",
       "  <tbody>\n",
       "    <tr>\n",
       "      <th id=\"T_01432_level0_row0\" class=\"row_heading level0 row0\" >Max Sharpe (Unconstrained)</th>\n",
       "      <td id=\"T_01432_row0_col0\" class=\"data row0 col0\" >37.80%</td>\n",
       "      <td id=\"T_01432_row0_col1\" class=\"data row0 col1\" >20.81%</td>\n",
       "      <td id=\"T_01432_row0_col2\" class=\"data row0 col2\" >1.72</td>\n",
       "    </tr>\n",
       "    <tr>\n",
       "      <th id=\"T_01432_level0_row1\" class=\"row_heading level0 row1\" >Max Sharpe (Cap 30%)</th>\n",
       "      <td id=\"T_01432_row1_col0\" class=\"data row1 col0\" >36.79%</td>\n",
       "      <td id=\"T_01432_row1_col1\" class=\"data row1 col1\" >21.57%</td>\n",
       "      <td id=\"T_01432_row1_col2\" class=\"data row1 col2\" >1.61</td>\n",
       "    </tr>\n",
       "  </tbody>\n",
       "</table>\n"
      ],
      "text/plain": [
       "<pandas.io.formats.style.Styler at 0x196430942d0>"
      ]
     },
     "execution_count": 18,
     "metadata": {},
     "output_type": "execute_result"
    }
   ],
   "source": [
    "alloc_compare = pd.concat(\n",
    "    [alloc_max_sharpe.rename(\"Unconstrained\"),\n",
    "     alloc_max_sharpe_cap30.rename(\"Cap30%\")],\n",
    "    axis=1\n",
    ").fillna(0)\n",
    "\n",
    "def perf_row(w, name):\n",
    "    return pd.Series({\n",
    "        \"Return\": portfolio_return(w, mu),\n",
    "        \"Volatility\": portfolio_vol(w, cov),\n",
    "        \"Sharpe\": sharpe_ratio(w, mu, cov)\n",
    "    }, name=name)\n",
    "\n",
    "perf_cap = pd.concat([\n",
    "    perf_row(w_max_sharpe, \"Max Sharpe (Unconstrained)\"),\n",
    "    perf_row(w_max_sharpe_cap30, \"Max Sharpe (Cap 30%)\")\n",
    "], axis=1).T\n",
    "\n",
    "display(alloc_compare.round(3))\n",
    "perf_cap.style.format({\"Return\":\"{:.2%}\",\"Volatility\":\"{:.2%}\",\"Sharpe\":\"{:.2f}\"})\n"
   ]
  },
  {
   "cell_type": "markdown",
   "id": "04c80813",
   "metadata": {},
   "source": [
    "### Visual Comparison"
   ]
  },
  {
   "cell_type": "code",
   "execution_count": 19,
   "id": "76f86c1b",
   "metadata": {},
   "outputs": [
    {
     "data": {
      "image/png": "[encoded data removed]",
      "text/plain": [
       "<Figure size 1000x500 with 1 Axes>"
      ]
     },
     "metadata": {},
     "output_type": "display_data"
    }
   ],
   "source": [
    "alloc_compare.plot(kind=\"bar\", figsize=(10,5), title=\"Max Sharpe Allocations: Unconstrained vs 30% Cap\")\n",
    "plt.ylabel(\"Weight\")\n",
    "plt.show()\n"
   ]
  },
  {
   "cell_type": "markdown",
   "id": "af186f29",
   "metadata": {},
   "source": [
    "## 6.2 Stability Metrics\n",
    "\n",
    "From the comaprisons in the previous section, we observed that the uncapped portfolio allocation results in a higher Sharpe Ratio. So we should go with that right? Not quite. We can't rely on Sharpe alone as it doesn't measure portfolio stability. In practice, it is always better to have a diversified portfolio. \n",
    "\n",
    "Hence why we can add stability metrics such as:\n",
    "- **Effective Number of Assets (N_eff):** diversification measure  \n",
    "  $$\n",
    "  N_\\text{eff} = \\frac{1}{\\sum_i w_i^2}\n",
    "  $$  \n",
    "\n",
    "- **Turnover:** how much allocations change at each rebalance (used later in backtests).\n"
   ]
  },
  {
   "cell_type": "code",
   "execution_count": 20,
   "id": "aee42f64",
   "metadata": {},
   "outputs": [
    {
     "name": "stdout",
     "output_type": "stream",
     "text": [
      "Effective Number of Assets (N_eff):\n",
      "  Unconstrained: 1.96\n",
      "  Cap 30%: 4.26\n"
     ]
    }
   ],
   "source": [
    "def effective_n_assets(weights):\n",
    "    return 1 / np.sum(weights**2)\n",
    "\n",
    "n_eff_unconstrained = effective_n_assets(w_max_sharpe)\n",
    "n_eff_cap30 = effective_n_assets(w_max_sharpe_cap30)\n",
    "\n",
    "print(\"Effective Number of Assets (N_eff):\")\n",
    "print(\"  Unconstrained:\", round(n_eff_unconstrained, 2))\n",
    "print(\"  Cap 30%:\", round(n_eff_cap30, 2))\n"
   ]
  },
  {
   "cell_type": "markdown",
   "id": "2542fe00",
   "metadata": {},
   "source": [
    "## 7. Key Insights\n",
    "\n",
    "- **Unconstrained Max Sharpe**\n",
    "  - Highest Sharpe (1.72) but concentrated: ~63% GLD + 33% NVDA.\n",
    "  - N_eff ≈ 2 → effectively a two-asset portfolio.\n",
    "\n",
    "- **Cap 30% Max Sharpe**\n",
    "  - More diversified (N_eff higher).\n",
    "  - Slightly lower Sharpe (1.61) and higher volatility.\n",
    "  - Reflects real-world trade-off: some efficiency is sacrificed for robustness.\n",
    "\n",
    "### Why It Matters\n",
    "- Unconstrained MPT is mathematically optimal but impractical (concentration risk, instability).  \n",
    "- Constraints produce more implementable portfolios, closer to what real managers use.  \n",
    "- **Bridge to ML:** Even with constraints, MPT is backward-looking and sensitive to estimation error.  \n",
    "  Next, we’ll test whether ML forecasts or adaptive methods can improve Sharpe without corner solutions.\n"
   ]
  },
  {
   "cell_type": "markdown",
   "id": "0363b472",
   "metadata": {},
   "source": []
  }
 ],
 "metadata": {
  "kernelspec": {
   "display_name": "Python 3",
   "language": "python",
   "name": "python3"
  },
  "language_info": {
   "codemirror_mode": {
    "name": "ipython",
    "version": 3
   },
   "file_extension": ".py",
   "mimetype": "text/x-python",
   "name": "python",
   "nbconvert_exporter": "python",
   "pygments_lexer": "ipython3",
   "version": "3.13.7"
  }
 },
 "nbformat": 4,
 "nbformat_minor": 5
}
